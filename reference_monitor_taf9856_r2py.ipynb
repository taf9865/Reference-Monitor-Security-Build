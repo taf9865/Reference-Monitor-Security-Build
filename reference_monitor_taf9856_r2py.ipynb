{
  "nbformat": 4,
  "nbformat_minor": 0,
  "metadata": {
    "colab": {
      "name": "reference_monitor_taf9856.r2py",
      "provenance": [],
      "authorship_tag": "ABX9TyN4YMPgP6SmtpeCVDV3KS0B",
      "include_colab_link": true
    },
    "kernelspec": {
      "name": "python3",
      "display_name": "Python 3"
    },
    "language_info": {
      "name": "python"
    }
  },
  "cells": [
    {
      "cell_type": "markdown",
      "metadata": {
        "id": "view-in-github",
        "colab_type": "text"
      },
      "source": [
        "<a href=\"https://colab.research.google.com/github/taf9865/Reference-Monitor-Security-Build/blob/master/reference_monitor_taf9856_r2py.ipynb\" target=\"_parent\"><img src=\"https://colab.research.google.com/assets/colab-badge.svg\" alt=\"Open In Colab\"/></a>"
      ]
    },
    {
      "cell_type": "code",
      "execution_count": null,
      "metadata": {
        "id": "TnEwPgbL5hRE"
      },
      "outputs": [],
      "source": [
        "!git clone https://github.com/kcg295/repy_v2\n",
        "%cd /content/repy_v2/scripts\n",
        "!python3 initialize.py\n",
        "!python3 build.py\n",
        "%cd ../RUNNABLE/ \n",
        "!wget -O /content/repy_v2/RUNNABLE/myapplication.r2py https://static.us.edusercontent.com/files/cDshGjQKDAvNdu8D4maBH44A\n",
        "!wget -O /content/repy_v2/RUNNABLE/gettingstartedmonitor.r2py https://static.us.edusercontent.com/files/Gj5dNy8S9d2jui8e1pEulioT\n",
        "!wget -O /content/repy_v2/RUNNABLE/story.txt https://static.us.edusercontent.com/files/py0yb7fLcIuoRrhMbhW4VRaz\n",
        "!wget -O /content/repy_v2/RUNNABLE/reference_monitor_netid.r2py https://tinyurl.com/2p8temtu\n",
        "\n",
        "\n"
      ]
    },
    {
      "cell_type": "code",
      "source": [
        "\"\"\"\n",
        "This security layer inadequately handles A/B storage for files in RepyV2.\n",
        "\n",
        "\n",
        "\n",
        "Note:\n",
        "    This security layer uses encasementlib.r2py, restrictions.default, repy.py and Python\n",
        "    Also you need to give it an application to run.\n",
        "    python repy.py restrictions.default encasementlib.r2py [security_layer].r2py [attack_program].r2py \n",
        "    \n",
        "    \"\"\" \n",
        "TYPE=\"type\"\n",
        "ARGS=\"args\"\n",
        "RETURN=\"return\"\n",
        "EXCP=\"exceptions\"\n",
        "TARGET=\"target\"\n",
        "FUNC=\"func\"\n",
        "OBJC=\"objc\"\n",
        "mycontext['filelock'] = createlock()\n",
        "\n",
        "class ABFile():\n",
        "  def __init__(self,filename,create):\n",
        "    # globals\n",
        "    mycontext['debug'] = False   \n",
        "    # local (per object) reference to the underlying file\n",
        "    self.Afn = filename+'.a'\n",
        "    self.Bfn = filename+'.b'\n",
        "    \n",
        "\n",
        "    # make the files and add 'SE' to the readat file...\n",
        "    if create:\n",
        "      self.Afile = ABopenfile(self.Afn,create)\n",
        "      self.Bfile = ABopenfile(self.Bfn,create)\n",
        "      self.Afile.writeat('SE',0)\n",
        "    else:\n",
        "      self.Afile = ABopenfile(self.Afn,True)\n",
        "      self.Bfile = ABopenfile(self.Bfn,True)\n",
        "      #self.Afile.writeat(read_text,0)\n",
        "      #self.Bfile.writeat(read_text,0)\n",
        "      \n",
        " \n",
        "  def writeat(self,data,offset):\n",
        "    \n",
        "    # Write the requested data to the B file using the sandbox's writeat call\n",
        "    if offset>=0 and offset <=len(self.Bfile):\n",
        "      self.Bfile.writeat(data,offset)\n",
        "    else:\n",
        "         pass\n",
        "\n",
        "   \n",
        "  def readat(self,bytes,offset):\n",
        "    # Read from the A file using the sandbox's readat...\n",
        "    return self.Afile.readat(bytes,offset)\n",
        "\n",
        "  def close(self):\n",
        "    size = len(self.Bfile)\n",
        "    if(self.Bfile[0] == 'S' and self.Bfile[size-1] == 'E'):\n",
        "       removefile(self.Afile)\n",
        "\t     self.Afile = ABopenfile(self.Afn,create)\n",
        "\t     self.Afile.writeat(self.Bfile.readat(None,0),0)\n",
        "        removefile(self.Bfile)\n",
        "        self.Afile.close()\n",
        "        self.Bfile.close()\n",
        "     else:\n",
        "\t      self.Afile.close()\n",
        "        self.Bfile.close()\n",
        "\n",
        "\n",
        "\n",
        "def ABopenfile(filename, create):\n",
        "  return ABFile(filename,create)\n",
        "\n",
        "\n",
        "\n",
        "\n",
        "# The code here sets up type checking and variable hiding for you.  You\n",
        "# should not need to change anything below here.\n",
        "sec_file_def = {\"obj-type\":ABFile,\n",
        "                \"name\":\"ABFile\",\n",
        "                \"writeat\":{\"type\":\"func\",\"args\":(str,(int,long)),\"exceptions\":Exception,\"return\":(int,type(None)),\"target\":ABFile.writeat},\n",
        "                \"readat\":{\"type\":\"func\",\"args\":((int,long,type(None)),(int,long)),\"exceptions\":Exception,\"return\":str,\"target\":ABFile.readat},\n",
        "                \"close\":{\"type\":\"func\",\"args\":None,\"exceptions\":None,\"return\":(bool,type(None)),\"target\":ABFile.close}\n",
        "           }\n",
        "\n",
        "CHILD_CONTEXT_DEF[\"ABopenfile\"] = {TYPE:OBJC,ARGS:(str,bool),EXCP:Exception,RETURN:sec_file_def,TARGET:ABopenfile}\n",
        "\n",
        "# Execute the user code\n",
        "secure_dispatch_module()\n"
      ],
      "metadata": {
        "colab": {
          "base_uri": "https://localhost:8080/",
          "height": 130
        },
        "id": "KlKdcIxjEs1y",
        "outputId": "b32e1b38-3b72-4f7d-f8e4-82c2c061ccb4"
      },
      "execution_count": 6,
      "outputs": [
        {
          "output_type": "error",
          "ename": "TabError",
          "evalue": "ignored",
          "traceback": [
            "\u001b[0;36m  File \u001b[0;32m\"<ipython-input-6-3fa1eb3e15b7>\"\u001b[0;36m, line \u001b[0;32m59\u001b[0m\n\u001b[0;31m    self.Afile = ABopenfile(self.Afn,create)\u001b[0m\n\u001b[0m                                            ^\u001b[0m\n\u001b[0;31mTabError\u001b[0m\u001b[0;31m:\u001b[0m inconsistent use of tabs and spaces in indentation\n"
          ]
        }
      ]
    }
  ]
}